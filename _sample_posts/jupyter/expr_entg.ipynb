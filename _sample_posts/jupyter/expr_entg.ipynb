{
 "cells": [
  {
   "cell_type": "code",
   "execution_count": null,
   "metadata": {
    "id": "lB3yZ2FHE_xn"
   },
   "outputs": [],
   "source": [
    "# !pip3 install qiskit qiskit-aer\n",
    "import numpy as np\n",
    "import scipy as sp\n",
    "import qiskit as qk\n",
    "import qiskit_aer as aer"
   ]
  },
  {
   "cell_type": "markdown",
   "metadata": {
    "id": "Lk2y6YwwFQlH"
   },
   "source": [
    "Today we will learn about how to compare different ansatz structure by measuring their expressibility and entanglement capabilities. Things covered in this blog is inspired from [[1]](https://arxiv.org/abs/1905.10876)."
   ]
  },
  {
   "cell_type": "markdown",
   "metadata": {
    "id": "17H7hQLgFjPm"
   },
   "source": [
    "# Designing Ansatze\n",
    "\n",
    "Ansatze are simply a parameterized quantum circuits (PQC), which play an essential role in the performance of many variational hybrid quantum-classical (HQC) algorithms. Major challenge while designing an asatz is to choose an effective template circuit that well represents the solution space while maintaining a low circuit depth and number of parameters. Here, we make a choice of two ansatze, one randomly and another inspired from the given hint."
   ]
  },
  {
   "cell_type": "markdown",
   "metadata": {
    "id": "3jCSD0PwFsYw"
   },
   "source": [
    "## Ansatz 1 (Random Choice)"
   ]
  },
  {
   "cell_type": "code",
   "execution_count": 13,
   "metadata": {
    "colab": {
     "base_uri": "https://localhost:8080/",
     "height": 125
    },
    "id": "s7BymDzSFOGQ",
    "outputId": "5f2328fb-8010-464b-e27e-f93a6eced609"
   },
   "outputs": [
    {
     "data": {
      "text/html": [
       "<pre style=\"word-wrap: normal;white-space: pre;background: #fff0;line-height: 1.1;font-family: &quot;Courier New&quot;,Courier,monospace\">     ┌─────────────┐      ┌────────────┐\n",
       "q_0: ┤ Rx(-2.2727) ├──■───┤ Rz(2.8575) ├\n",
       "     └┬────────────┤┌─┴─┐┌┴────────────┤\n",
       "q_1: ─┤ Rx(2.9026) ├┤ X ├┤ Rz(0.99914) ├\n",
       "      └────────────┘└───┘└─────────────┘\n",
       "c: 2/═══════════════════════════════════\n",
       "                                        </pre>"
      ],
      "text/plain": [
       "     ┌─────────────┐      ┌────────────┐\n",
       "q_0: ┤ Rx(-2.2727) ├──■───┤ Rz(2.8575) ├\n",
       "     └┬────────────┤┌─┴─┐┌┴────────────┤\n",
       "q_1: ─┤ Rx(2.9026) ├┤ X ├┤ Rz(0.99914) ├\n",
       "      └────────────┘└───┘└─────────────┘\n",
       "c: 2/═══════════════════════════════════\n",
       "                                        "
      ]
     },
     "execution_count": 13,
     "metadata": {},
     "output_type": "execute_result"
    }
   ],
   "source": [
    "def ansatz1(params, num_qubits):\n",
    "    \"\"\"\n",
    "    Generate an templated ansatz with given parameters\n",
    "\n",
    "    Args:\n",
    "    params (array[float]): Parameters to initialize the parameterized unitary.\n",
    "    num_qubits (int): Number of qubits in the circuit.\n",
    "\n",
    "    Returns:\n",
    "    ansatz (qiskit.QuantumCircuit): Generated ansatz circuit\n",
    "    \"\"\"\n",
    "\n",
    "    ansatz = qk.QuantumCircuit(num_qubits, num_qubits)\n",
    "    params = params.reshape(2,2)\n",
    "\n",
    "    for idx in range(num_qubits):\n",
    "      ansatz.rx(params[0][idx], idx)\n",
    "\n",
    "    ansatz.cx(0, 1)\n",
    "\n",
    "    for idx in range(num_qubits):\n",
    "      ansatz.rz(params[1][idx], idx)\n",
    "\n",
    "    return ansatz\n",
    "\n",
    "ansatz1(np.random.uniform(-np.pi, np.pi, (2,2)), 2).draw()"
   ]
  },
  {
   "cell_type": "markdown",
   "metadata": {
    "id": "Lmg9vs9NGrU9"
   },
   "source": [
    "## Ansatz 2 (Structured Choice)\n"
   ]
  },
  {
   "cell_type": "code",
   "execution_count": 15,
   "metadata": {
    "colab": {
     "base_uri": "https://localhost:8080/",
     "height": 125
    },
    "id": "kdGX6VLAFquW",
    "outputId": "1782bde3-b802-4cb1-e742-ec81622ff9d5"
   },
   "outputs": [
    {
     "data": {
      "text/html": [
       "<pre style=\"word-wrap: normal;white-space: pre;background: #fff0;line-height: 1.1;font-family: &quot;Courier New&quot;,Courier,monospace\">     ┌───┐     ┌───────┐\n",
       "q_0: ┤ H ├──■──┤ Rx(π) ├\n",
       "     └───┘┌─┴─┐└───────┘\n",
       "q_1: ─────┤ X ├─────────\n",
       "          └───┘         \n",
       "c: 2/═══════════════════\n",
       "                        </pre>"
      ],
      "text/plain": [
       "     ┌───┐     ┌───────┐\n",
       "q_0: ┤ H ├──■──┤ Rx(π) ├\n",
       "     └───┘┌─┴─┐└───────┘\n",
       "q_1: ─────┤ X ├─────────\n",
       "          └───┘         \n",
       "c: 2/═══════════════════\n",
       "                        "
      ]
     },
     "execution_count": 15,
     "metadata": {},
     "output_type": "execute_result"
    }
   ],
   "source": [
    "def ansatz2(params, num_qubits):\n",
    "    \"\"\"\n",
    "    Generate an templated ansatz with given parameters\n",
    "\n",
    "    Args:\n",
    "    params (array[float]): Parameters to initialize the parameterized unitary.\n",
    "    num_qubits (int): Number of qubits in the circuit.\n",
    "\n",
    "    Returns:\n",
    "    ansatz (qiskit.QuantumCircuit): Generated ansatz circuit\n",
    "\n",
    "    \"\"\"\n",
    "    params = np.array(params).reshape(1)\n",
    "    ansatz = qk.QuantumCircuit(num_qubits, num_qubits)\n",
    "    ansatz.h(0)\n",
    "    ansatz.cx(0, 1)\n",
    "    ansatz.rx(params[0], 0)\n",
    "\n",
    "    return ansatz\n",
    "\n",
    "ansatz2([np.pi], 2).draw()"
   ]
  },
  {
   "cell_type": "markdown",
   "metadata": {
    "id": "pzSIXHTbIeWc"
   },
   "source": [
    "## Ansatz 3 (Empty Circuit)"
   ]
  },
  {
   "cell_type": "code",
   "execution_count": 21,
   "metadata": {
    "colab": {
     "base_uri": "https://localhost:8080/",
     "height": 125
    },
    "id": "mNuOvP_TIdzt",
    "outputId": "d368d16f-6aba-4afc-a7d0-3adfa3cf35d7"
   },
   "outputs": [
    {
     "data": {
      "text/html": [
       "<pre style=\"word-wrap: normal;white-space: pre;background: #fff0;line-height: 1.1;font-family: &quot;Courier New&quot;,Courier,monospace\">     \n",
       "q_0: \n",
       "     \n",
       "q_1: \n",
       "     \n",
       "c: 2/\n",
       "     </pre>"
      ],
      "text/plain": [
       "     \n",
       "q_0: \n",
       "     \n",
       "q_1: \n",
       "     \n",
       "c: 2/\n",
       "     "
      ]
     },
     "execution_count": 21,
     "metadata": {},
     "output_type": "execute_result"
    }
   ],
   "source": [
    "def ansatz3(params, num_qubits):\n",
    "    \"\"\"\n",
    "    Generate an templated ansatz with no parameters\n",
    "\n",
    "    Args:\n",
    "    params (array[float]): Parameters to initialize the parameterized unitary.\n",
    "    num_qubits (int): Number of qubits in the circuit.\n",
    "\n",
    "    Returns:\n",
    "    ansatz (QuantumCircuit): Generated ansatz circuit\n",
    "\n",
    "    \"\"\"\n",
    "\n",
    "    ansatz = qk.QuantumCircuit(num_qubits, num_qubits)\n",
    "    return ansatz\n",
    "\n",
    "ansatz3((), 2).draw()"
   ]
  },
  {
   "cell_type": "markdown",
   "metadata": {
    "id": "qpyf10_aG8kb"
   },
   "source": [
    "# Checking Expressibility of Ansatze"
   ]
  },
  {
   "cell_type": "markdown",
   "metadata": {},
   "source": [
    "We quantify expressibility of ansatze using the Hilbert-Schmidt norm of $A$ defined as:\n",
    "\n",
    "$$A = \\int_{\\text{Haar}} |\\psi\\rangle\\langle\\psi| d\\psi - \\int_{\\theta} |\\psi_\\theta\\rangle\\langle\\psi_\\theta| d\\theta \\tag{1}$$\n",
    "\n",
    "\n",
    "This quantity needs to be taken with a pinch of salt as it is an oversimplification of the which actually has to be calculated with the definition of an $\\epsilon$-approximate $t$-state-design [[1]](https://arxiv.org/abs/1905.10876).\n",
    "\n",
    "Here, the first term, i.e. a Haar integral, is the integral over a group of unitaries distributed randomly according to the Haar measure. Whereas, the second term,  is taken over all states over the measure induced by uniformly sampling the parameters\n",
    " of the PQC."
   ]
  },
  {
   "cell_type": "code",
   "execution_count": 37,
   "metadata": {
    "id": "jpGH8pDOG0CA"
   },
   "outputs": [],
   "source": [
    "def random_unitary(N):\n",
    "    \"\"\"\n",
    "        Return a Haar distributed random unitary from U(N)\n",
    "    \"\"\"\n",
    "\n",
    "    Z = np.random.randn(N, N) + 1.0j * np.random.randn(N, N)\n",
    "    [Q, R] = sp.linalg.qr(Z)\n",
    "    D = np.diag(np.diagonal(R) / np.abs(np.diagonal(R)))\n",
    "    return np.dot(Q, D)\n",
    "\n",
    "def haar_integral(num_qubits, samples):\n",
    "    \"\"\"\n",
    "        Return calculation of Haar Integral for a specified number of samples.\n",
    "    \"\"\"\n",
    "\n",
    "    N = 2**num_qubits\n",
    "    randunit_density = np.zeros((N, N), dtype=complex)\n",
    "\n",
    "\n",
    "    zero_state = np.zeros(N, dtype=complex)\n",
    "    zero_state[0] = 1\n",
    "\n",
    "    for _ in range(samples):\n",
    "      A = np.matmul(zero_state, random_unitary(N)).reshape(-1,1)\n",
    "      randunit_density += np.kron(A, A.conj().T)\n",
    "\n",
    "    randunit_density/=samples\n",
    "\n",
    "    return randunit_density\n",
    "\n",
    "def pqc_integral(num_qubits, ansatze, size, samples):\n",
    "    \"\"\"\n",
    "        Return calculation of Integral for a PQC over the uniformly sampled\n",
    "        the parameters θ for the specified number of samples.\n",
    "    \"\"\"\n",
    "\n",
    "    N = num_qubits\n",
    "    randunit_density = np.zeros((2**N, 2**N), dtype=complex)\n",
    "\n",
    "    backend = aer.StatevectorSimulator()\n",
    "    for _ in range(samples):\n",
    "      params = np.random.uniform(-np.pi, np.pi, size)\n",
    "      ansatz = ansatze(params, N)\n",
    "      result = backend.run(ansatz).result()\n",
    "      U = result.get_statevector(ansatz, decimals=5).data.reshape(-1,1)\n",
    "      randunit_density += np.kron(U, U.conj().T)\n",
    "\n",
    "    return randunit_density/samples\n"
   ]
  },
  {
   "cell_type": "code",
   "execution_count": 36,
   "metadata": {
    "colab": {
     "base_uri": "https://localhost:8080/"
    },
    "id": "hGYfZDYhJosl",
    "outputId": "f5b906e3-f154-4f79-b3ca-951faa97e2e0"
   },
   "outputs": [
    {
     "name": "stdout",
     "output_type": "stream",
     "text": [
      "0.012572817703360996\n"
     ]
    }
   ],
   "source": [
    "# Sanity Check\n",
    "print(np.linalg.norm(haar_integral(2, 10000) - haar_integral(2, 10000)))"
   ]
  },
  {
   "cell_type": "markdown",
   "metadata": {
    "id": "egQne4guI6kZ"
   },
   "source": [
    "## Results for Ansatz\n"
   ]
  },
  {
   "cell_type": "code",
   "execution_count": 40,
   "metadata": {
    "colab": {
     "base_uri": "https://localhost:8080/"
    },
    "id": "N2xlqV7cI58G",
    "outputId": "2282daa1-eabb-481b-a31c-d08111be3110"
   },
   "outputs": [
    {
     "name": "stdout",
     "output_type": "stream",
     "text": [
      "Result for ansatz1 : 0.016188197632944736\n",
      "Result for ansatz2 : 0.49229263961748737\n",
      "Result for ansatz3 : 0.878161089154185\n"
     ]
    }
   ],
   "source": [
    "params_shape = [(2, 2), 1, 0]\n",
    "\n",
    "for idx, ansatz in enumerate([ansatz1, ansatz2, ansatz3]):\n",
    "    print(f\"Result for ansatz{idx+1} : {np.linalg.norm(haar_integral(2, 2048) - pqc_integral(2, ansatz, params_shape[idx], 2048))}\")"
   ]
  },
  {
   "cell_type": "markdown",
   "metadata": {
    "id": "rgWV8wiKLWEc"
   },
   "source": [
    "\n",
    "Clearly, expressibility are in the order: ``Ansatz 3 < Ansatz 2 < Ansatz 1``, i.e. the power to probe Hilbert space is much more for our randomly chosen ansatz, which is guessable."
   ]
  },
  {
   "cell_type": "markdown",
   "metadata": {
    "id": "bFdlUJ6eLu96"
   },
   "source": [
    "# Checking Entangling Capability of Ansatze"
   ]
  },
  {
   "cell_type": "markdown",
   "metadata": {},
   "source": [
    "We quantify entanlging capability [[1]](https://arxiv.org/abs/1905.10876) of $n$-qubit ansatze by calculating the average Meyer-Wallach entanglement, \\\\( Q \\\\), of the states generated by it:\n",
    "\n",
    "$$Q = \\frac{2}{|S|}\\sum_{\\theta_i\\in S}\\left(1- \\frac{1}{n}\\sum_{k=1}^n \\text{Tr}[\\rho_k^2(\\theta_i)]\\right) \\tag{2}$$\n",
    "\n",
    "Here, $\\rho_k$ is the density operator for the qubit $k$ after tracing out the rest, and $\\theta$ is the set of sampled parameters. The quantity within the first summation can also be called as the average subsystem linear entropy for the system, and to calculate it we make use of qiskit's `partial_trace`."
   ]
  },
  {
   "cell_type": "code",
   "execution_count": 41,
   "metadata": {
    "id": "1OXyd0cxIO2C"
   },
   "outputs": [],
   "source": [
    "def meyer_wallach(circuit, num_qubits, size, sample=1024):\n",
    "    \"\"\"\n",
    "        Returns the meyer-wallach entanglement measure for the given circuit.\n",
    "    \"\"\"\n",
    "\n",
    "    res = np.zeros(sample, dtype=complex)\n",
    "    N = num_qubits\n",
    "\n",
    "    backend = aer.StatevectorSimulator()\n",
    "    for i in range(sample):\n",
    "        params = np.random.uniform(-np.pi, np.pi, size)\n",
    "        ansatz = circuit(params, N)\n",
    "        result = backend.run(ansatz).result()\n",
    "        U = result.get_statevector(ansatz, decimals=5).data.reshape(-1,1)\n",
    "        entropy = 0\n",
    "        qb = list(range(N))\n",
    "\n",
    "        for j in range(N):\n",
    "            dens = qk.quantum_info.partial_trace(U, qb[:j]+qb[j+1:]).data\n",
    "            trace = np.trace(dens**2)\n",
    "            entropy += trace\n",
    "\n",
    "        entropy /= N\n",
    "        res[i] = 1 - entropy\n",
    "\n",
    "    return 2*np.sum(res).real/sample"
   ]
  },
  {
   "cell_type": "code",
   "execution_count": 42,
   "metadata": {
    "colab": {
     "base_uri": "https://localhost:8080/"
    },
    "id": "ZTOEMAPwNUq-",
    "outputId": "915eaf38-eaa1-4e83-ad5e-30e3e8bbf66d"
   },
   "outputs": [
    {
     "name": "stdout",
     "output_type": "stream",
     "text": [
      "0.0\n"
     ]
    }
   ],
   "source": [
    "# Sanity Check\n",
    "print(meyer_wallach(ansatz3, 2, 0))"
   ]
  },
  {
   "cell_type": "markdown",
   "metadata": {
    "id": "V83Pzi5bNUq_"
   },
   "source": [
    "## Results for Ansatz\n"
   ]
  },
  {
   "cell_type": "code",
   "execution_count": 43,
   "metadata": {
    "colab": {
     "base_uri": "https://localhost:8080/"
    },
    "id": "jRk1hZcMNUq_",
    "outputId": "73629e25-db0a-424f-8a0d-5bfbade99dac"
   },
   "outputs": [
    {
     "name": "stdout",
     "output_type": "stream",
     "text": [
      "Result for ansatz1 : 0.6231297994520951\n",
      "Result for ansatz2 : 0.9999998195955925\n",
      "Result for ansatz3 : 0.0\n"
     ]
    }
   ],
   "source": [
    "params_shape = [(2, 2), 1, 0]\n",
    "\n",
    "for idx, ansatz in enumerate([ansatz1, ansatz2, ansatz3]):\n",
    "    print(f\"Result for ansatz{idx+1} : {meyer_wallach(ansatz, 2, params_shape[idx])}\")"
   ]
  },
  {
   "cell_type": "markdown",
   "metadata": {
    "id": "qHIcwbCANkuo"
   },
   "source": [
    "Clearly, the entangling capability are in the order: ``Ansatz 3 < Ansatz 1 < Ansatz 2``. Therefore, we can guess limited expressibility of Ansatz 2 is compensated by its higher entangling capability."
   ]
  }
 ],
 "metadata": {
  "colab": {
   "provenance": []
  },
  "kernelspec": {
   "display_name": "Python 3 (ipykernel)",
   "language": "python",
   "name": "python3"
  },
  "language_info": {
   "codemirror_mode": {
    "name": "ipython",
    "version": 3
   },
   "file_extension": ".py",
   "mimetype": "text/x-python",
   "name": "python",
   "nbconvert_exporter": "python",
   "pygments_lexer": "ipython3",
   "version": "3.10.4"
  }
 },
 "nbformat": 4,
 "nbformat_minor": 4
}
